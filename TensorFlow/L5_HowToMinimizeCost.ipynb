{
 "cells": [
  {
   "cell_type": "markdown",
   "metadata": {},
   "source": [
    "How to minimize cost??"
   ]
  },
  {
   "cell_type": "markdown",
   "metadata": {},
   "source": [
    "Cost funcion in pure python"
   ]
  },
  {
   "cell_type": "code",
   "execution_count": 25,
   "metadata": {},
   "outputs": [],
   "source": [
    "import numpy as np\n",
    "import tensorflow as tf\n",
    "import matplotlib.pyplot as plt\n",
    "\n",
    "tf.enable_eager_execution()"
   ]
  },
  {
   "cell_type": "markdown",
   "metadata": {},
   "source": [
    "Cost = Σ(Wxi - yi)^2/m for i = 1 to i = m"
   ]
  },
  {
   "cell_type": "code",
   "execution_count": 26,
   "metadata": {},
   "outputs": [],
   "source": [
    "X = np.array([1, 2, 3])\n",
    "Y = np.array([1, 2, 3])\n",
    "\n",
    "def cost_func(W, X, Y):\n",
    "    c = 0\n",
    "    for i in range(len(X)):\n",
    "        c += (W*X[i] - Y[i])**2\n",
    "    return c / len(X)"
   ]
  },
  {
   "cell_type": "code",
   "execution_count": 27,
   "metadata": {},
   "outputs": [
    {
     "name": "stdout",
     "output_type": "stream",
     "text": [
      "-3.000 |           74.66667\n",
      "-2.429 |           54.85714\n",
      "-1.857 |           38.09524\n",
      "-1.286 |           24.38095\n",
      "-0.714 |           13.71429\n",
      "-0.143 |            6.09524\n",
      " 0.429 |            1.52381\n",
      " 1.000 |            0.00000\n",
      " 1.571 |            1.52381\n",
      " 2.143 |            6.09524\n",
      " 2.714 |           13.71429\n",
      " 3.286 |           24.38095\n",
      " 3.857 |           38.09524\n",
      " 4.429 |           54.85714\n",
      " 5.000 |           74.66667\n"
     ]
    }
   ],
   "source": [
    "for feed_w in np.linspace(-3, 5, num=15):\n",
    "    curr_cost = cost_func(feed_w, X, Y)\n",
    "    print(\"{:6.3f} | {:18.5f}\".format(feed_w, curr_cost))"
   ]
  },
  {
   "cell_type": "markdown",
   "metadata": {},
   "source": [
    "Cost funcion in TensorFlow"
   ]
  },
  {
   "cell_type": "code",
   "execution_count": 28,
   "metadata": {},
   "outputs": [
    {
     "name": "stdout",
     "output_type": "stream",
     "text": [
      "-3.000 |           74.66667\n",
      "-2.429 |           54.85714\n",
      "-1.857 |           38.09524\n",
      "-1.286 |           24.38095\n",
      "-0.714 |           13.71429\n",
      "-0.143 |            6.09524\n",
      " 0.429 |            1.52381\n",
      " 1.000 |            0.00000\n",
      " 1.571 |            1.52381\n",
      " 2.143 |            6.09524\n",
      " 2.714 |           13.71429\n",
      " 3.286 |           24.38095\n",
      " 3.857 |           38.09524\n",
      " 4.429 |           54.85714\n",
      " 5.000 |           74.66667\n"
     ]
    }
   ],
   "source": [
    "def cost_func(W, X, Y):\n",
    "    hypothesis = W * X\n",
    "    return tf.reduce_mean(tf.square(hypothesis - Y))\n",
    "\n",
    "W = np.linspace(-3, 5, num=15)\n",
    "cost_value = []\n",
    "\n",
    "for feed_w in W:\n",
    "    curr_cost = cost_func(feed_w, X, Y)\n",
    "    cost_value.append(curr_cost)\n",
    "    print(\"{:6.3f} | {:18.5f}\".format(feed_w, curr_cost))"
   ]
  },
  {
   "cell_type": "code",
   "execution_count": 29,
   "metadata": {},
   "outputs": [
    {
     "data": {
      "image/png": "[encoded data removed]",
      "text/plain": [
       "<Figure size 432x288 with 1 Axes>"
      ]
     },
     "metadata": {
      "needs_background": "light"
     },
     "output_type": "display_data"
    }
   ],
   "source": [
    "plt.plot(W, cost_value, \"b\")\n",
    "plt.xlabel(\"W\")\n",
    "plt.ylabel(\"Cost(W)\")\n",
    "plt.show()"
   ]
  },
  {
   "cell_type": "markdown",
   "metadata": {},
   "source": [
    "Gradien descent:\n",
    "\n",
    "    Cost = Σ(Wxi - yi)^2/m for i = 1 to i = m => 미분!\n",
    "        => Cost' = Σ(Wxi - yi)xi/m for i = 1 to i\n",
    "        \n",
    "    So.\n",
    "        W0 = W, a = Learning rate = 0.01\n",
    "        W1 = W0 - aΣ(W0xi - yi)xi/m for i = 1 to i\n",
    "        W2 = W1 - aΣ(W0xi - yi)xi/m for i = 1 to i\n",
    "                     .\n",
    "                     .\n",
    "                     .\n",
    "       위와 같은 방법을 진행하면 위의 그래프의 꼭짓점에 최대한\n",
    "       근사하게 될 것이고 그것이 X인풋에 대한 최적의 예상 점"
   ]
  },
  {
   "cell_type": "code",
   "execution_count": 37,
   "metadata": {},
   "outputs": [
    {
     "data": {
      "text/plain": [
       "<tf.Variable 'Variable:0' shape=(1,) dtype=float32, numpy=array([1.0000297], dtype=float32)>"
      ]
     },
     "execution_count": 37,
     "metadata": {},
     "output_type": "execute_result"
    }
   ],
   "source": []
  },
  {
   "cell_type": "code",
   "execution_count": 36,
   "metadata": {},
   "outputs": [
    {
     "name": "stdout",
     "output_type": "stream",
     "text": [
      "    0 | 11716.3086 |  48.767971\n",
      "   10 |  4504.9126 |  30.619968\n",
      "   20 |  1732.1364 |  19.366755\n",
      "   30 |   666.0052 |  12.388859\n",
      "   40 |   256.0785 |   8.062004\n",
      "   50 |    98.4620 |   5.379007\n",
      "   60 |    37.8586 |   3.715335\n",
      "   70 |    14.5566 |   2.683725\n",
      "   80 |     5.5970 |   2.044044\n",
      "   90 |     2.1520 |   1.647391\n",
      "  100 |     0.8275 |   1.401434\n",
      "  110 |     0.3182 |   1.248922\n",
      "  120 |     0.1223 |   1.154351\n",
      "  130 |     0.0470 |   1.095710\n",
      "  140 |     0.0181 |   1.059348\n",
      "  150 |     0.0070 |   1.036801\n",
      "  160 |     0.0027 |   1.022819\n",
      "  170 |     0.0010 |   1.014150\n",
      "  180 |     0.0004 |   1.008774\n",
      "  190 |     0.0002 |   1.005441\n",
      "  200 |     0.0001 |   1.003374\n",
      "  210 |     0.0000 |   1.002092\n",
      "  220 |     0.0000 |   1.001297\n",
      "  230 |     0.0000 |   1.000804\n",
      "  240 |     0.0000 |   1.000499\n",
      "  250 |     0.0000 |   1.000309\n",
      "  260 |     0.0000 |   1.000192\n",
      "  270 |     0.0000 |   1.000119\n",
      "  280 |     0.0000 |   1.000074\n",
      "  290 |     0.0000 |   1.000046\n"
     ]
    }
   ],
   "source": [
    "tf.set_random_seed(0) # 랜덤 시드 초기화, 다음에 코드를 다시 실행해도 \n",
    "                        # 똑같은 값 리턴\n",
    "    \n",
    "W = tf.Variable(tf.random_normal([1],-100, 100)) #-100부터 100사이의 숫자 \"하나\" \n",
    "alpha = 0.01 # Learning rate\n",
    "\n",
    "\n",
    "for step in range(300):\n",
    "    hypothesis = W*X\n",
    "    cost = tf.reduce_mean(tf.square(hypothesis - Y))\n",
    "    \n",
    "    gradient = tf.reduce_mean(tf.multiply(tf.multiply(W, X) - Y, X))\n",
    "    descent = W - tf.multiply(alpha, gradient)\n",
    "    W.assign(descent)\n",
    "    \n",
    "    if step % 10 == 0:\n",
    "        print(\"{:5} | {:10.4f} | {:10.6f}\".format(\n",
    "            step, cost.numpy(), W.numpy()[0]))"
   ]
  },
  {
   "cell_type": "markdown",
   "metadata": {},
   "source": [
    "W(Weight) 값이 1로 수렴할수록 Cost는 0에 수렴한다. 즉 X = [1, 2, 3] 과\n",
    "Y = [1, 2, 3] 이 이루는 직선의 방정식의 기울기는 1이라는 것"
   ]
  },
  {
   "cell_type": "code",
   "execution_count": null,
   "metadata": {},
   "outputs": [],
   "source": []
  }
 ],
 "metadata": {
  "kernelspec": {
   "display_name": "Python 3",
   "language": "python",
   "name": "python3"
  },
  "language_info": {
   "codemirror_mode": {
    "name": "ipython",
    "version": 3
   },
   "file_extension": ".py",
   "mimetype": "text/x-python",
   "name": "python",
   "nbconvert_exporter": "python",
   "pygments_lexer": "ipython3",
   "version": "3.7.4"
  }
 },
 "nbformat": 4,
 "nbformat_minor": 2
}
