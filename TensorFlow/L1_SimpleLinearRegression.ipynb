{
 "cells": [
  {
   "cell_type": "markdown",
   "metadata": {},
   "source": [
    "TensorFlow\n",
    "\n",
    "1.첫 번쨰 Simple Linear regression(선형 회귀)\n",
    "\n",
    "    Linear regression : Data set을 가장 잘 대변하는 직선의 방정식\n",
    "        cost = how fit the line to our Data => cost(x) = H(x) - y, x in X, y in Y\n",
    "        cost(w) = Σ(Wxi(예측값, 가설) - Yi)^2 / m, i range 1 to m-1\n",
    "        \n",
    "        hypothesis = W*x + b => can be Simplified as W*x\n",
    "        \n",
    " \n",
    " 코드로 구현해 보자."
   ]
  },
  {
   "cell_type": "code",
   "execution_count": 77,
   "metadata": {},
   "outputs": [],
   "source": [
    "import tensorflow as tf\n",
    "\n",
    "tf.enable_eager_execution() # 텐서플로 변수를 더욱 직관적으로 관찰하기 위해"
   ]
  },
  {
   "cell_type": "code",
   "execution_count": 78,
   "metadata": {},
   "outputs": [
    {
     "data": {
      "text/plain": [
       "(<tf.Variable 'Variable:0' shape=() dtype=float32, numpy=3.0>,\n",
       " <tf.Variable 'Variable:0' shape=() dtype=float32, numpy=0.5>,\n",
       " 3.0,\n",
       " 0.5)"
      ]
     },
     "execution_count": 78,
     "metadata": {},
     "output_type": "execute_result"
    }
   ],
   "source": [
    "X = [1,2,3,4,5] #입력 값\n",
    "Y = [1,2,3,4,5] #출력 값\n",
    "\n",
    "#다음 데이터를 유추하려면?\n",
    "#데이터에 Set에 가장 유사한 직선의 방정식을 따라가면 된다.\n",
    "\n",
    "W = tf.Variable(3.0)\n",
    "b = tf.Variable(0.5)\n",
    "\n",
    "W, b, W.numpy(), b.numpy()"
   ]
  },
  {
   "cell_type": "code",
   "execution_count": 79,
   "metadata": {},
   "outputs": [
    {
     "data": {
      "image/png": "[encoded data removed]",
      "text/plain": [
       "<Figure size 432x288 with 1 Axes>"
      ]
     },
     "metadata": {
      "needs_background": "light"
     },
     "output_type": "display_data"
    }
   ],
   "source": [
    "import matplotlib.pyplot as plt\n",
    "\n",
    "plt.plot(X, Y, \"o\")\n",
    "plt.ylim(0, 8)\n",
    "plt.show()"
   ]
  },
  {
   "cell_type": "code",
   "execution_count": 80,
   "metadata": {},
   "outputs": [],
   "source": [
    "hypothesis = W * X + b # H(x), x in X Formal hypothesis\n",
    "hyp = W * X # Simplified hypothesis"
   ]
  },
  {
   "cell_type": "code",
   "execution_count": 81,
   "metadata": {},
   "outputs": [
    {
     "data": {
      "image/png": "[encoded data removed]",
      "text/plain": [
       "<Figure size 432x288 with 1 Axes>"
      ]
     },
     "metadata": {
      "needs_background": "light"
     },
     "output_type": "display_data"
    }
   ],
   "source": [
    "plt.plot(X,hypothesis, \"r\")\n",
    "plt.plot(X, Y, \"o\")\n",
    "plt.ylim(0,8)\n",
    "plt.show()\n",
    "# showing Graph based on Formal hypothesis "
   ]
  },
  {
   "cell_type": "code",
   "execution_count": 82,
   "metadata": {},
   "outputs": [
    {
     "data": {
      "image/png": "[encoded data removed]",
      "text/plain": [
       "<Figure size 432x288 with 1 Axes>"
      ]
     },
     "metadata": {
      "needs_background": "light"
     },
     "output_type": "display_data"
    }
   ],
   "source": [
    "plt.plot(X, hyp, \"r\")\n",
    "plt.plot(X, Y, \"o\")\n",
    "plt.ylim(0,8)\n",
    "plt.show()\n",
    "# showing Graph based on Simplified hypothesis "
   ]
  },
  {
   "cell_type": "markdown",
   "metadata": {},
   "source": [
    "Cost를 구해보자"
   ]
  },
  {
   "cell_type": "code",
   "execution_count": 83,
   "metadata": {},
   "outputs": [],
   "source": [
    "learning_data = 0.01 # 학습한 값을 결과에 얼마만큼 반영할지를 결정하는 상수\n",
    "\n",
    "cost_1 = tf.reduce_mean(tf.square(hypothesis - Y))\n",
    "cost_2 = tf.reduce_mean(tf.square(hyp - Y))"
   ]
  },
  {
   "cell_type": "code",
   "execution_count": 106,
   "metadata": {},
   "outputs": [],
   "source": [
    "with tf.GradientTape() as tape1:\n",
    "    hypothesis = W*X + b\n",
    "    cost_1 = tf.reduce_mean(tf.square(hypothesis - Y))\n",
    "    # GradientTape를 통해 자동미분을 해 기울기 값을 얻는다.\n",
    "with tf.GradientTape() as tape2:\n",
    "    hyp = W*X\n",
    "    cost_2 = tf.reduce_mean(tf.square(hyp - Y))\n",
    "    # GradientTape를 통해 자동미분을 해 기울기 값을 얻는다.\n",
    "cost_1, cost_2\n",
    "\n",
    "w_grad, b_grad = tape1.gradient(cost_1, [W, b])\n",
    "w_simple_grad = tape2.gradient(cost_2, W)"
   ]
  },
  {
   "cell_type": "code",
   "execution_count": 107,
   "metadata": {},
   "outputs": [
    {
     "data": {
      "text/plain": [
       "(<tf.Tensor: id=36178, shape=(), dtype=float32, numpy=-64.200005>,\n",
       " <tf.Tensor: id=36171, shape=(), dtype=float32, numpy=-17.800001>,\n",
       " <tf.Tensor: id=36199, shape=(), dtype=float32, numpy=-59.400005>)"
      ]
     },
     "execution_count": 107,
     "metadata": {},
     "output_type": "execute_result"
    }
   ],
   "source": [
    "w_grad, b_grad, w_simple_grad"
   ]
  },
  {
   "cell_type": "code",
   "execution_count": 96,
   "metadata": {},
   "outputs": [
    {
     "data": {
      "text/plain": [
       "(-1.7000002, -0.79999995)"
      ]
     },
     "execution_count": 96,
     "metadata": {},
     "output_type": "execute_result"
    }
   ],
   "source": [
    "W.assign_sub(learning_data*w_grad)\n",
    "b.assign_sub(learning_data*b_grad)\n",
    "\n",
    "W.numpy(), b.numpy()"
   ]
  },
  {
   "cell_type": "code",
   "execution_count": 95,
   "metadata": {},
   "outputs": [
    {
     "data": {
      "image/png": "[encoded data removed]",
      "text/plain": [
       "<Figure size 432x288 with 1 Axes>"
      ]
     },
     "metadata": {
      "needs_background": "light"
     },
     "output_type": "display_data"
    }
   ],
   "source": [
    "plt.plot(X, Y, \"o\")\n",
    "plt.plot(X, hypothesis, \"r-\")\n",
    "plt.ylim(0, 8)\n",
    "plt.show()"
   ]
  },
  {
   "cell_type": "code",
   "execution_count": 67,
   "metadata": {},
   "outputs": [
    {
     "data": {
      "image/png": "[encoded data removed]",
      "text/plain": [
       "<Figure size 432x288 with 1 Axes>"
      ]
     },
     "metadata": {
      "needs_background": "light"
     },
     "output_type": "display_data"
    }
   ],
   "source": [
    "W = tf.Variable(2.9)\n",
    "b = tf.Variable(0.5)\n",
    "\n",
    "for k in range(100):\n",
    "    with tf.GradientTape() as tape1:\n",
    "        hypothesis = W*X + b\n",
    "        cost_1 = tf.reduce_mean(tf.square(hypothesis - Y))\n",
    "    w_grad, b_grad = tape1.gradient(cost_1, [W, b])\n",
    "    W.assign_sub(learning_data*w_grad)\n",
    "    b.assign_sub(learning_data*b_grad)\n",
    "    if k % 10 == 0:\n",
    "        plt.plot(X, hypothesis, \"r-\")\n",
    "\n",
    "plt.plot(X, Y, \"o\")\n",
    "plt.ylim(0, 8)\n",
    "plt.show() # Complete code with Linear regression using Formal hypothesis"
   ]
  },
  {
   "cell_type": "code",
   "execution_count": 108,
   "metadata": {},
   "outputs": [
    {
     "data": {
      "image/png": "[encoded data removed]",
      "text/plain": [
       "<Figure size 432x288 with 1 Axes>"
      ]
     },
     "metadata": {
      "needs_background": "light"
     },
     "output_type": "display_data"
    }
   ],
   "source": [
    "W = tf.Variable(2.9)\n",
    "b = tf.Variable(0.5)\n",
    "\n",
    "for k in range(100):\n",
    "    with tf.GradientTape() as tape2:\n",
    "        hypothesis = W*X\n",
    "        cost_2 = tf.reduce_mean(tf.square(hypothesis - Y))\n",
    "    w_grad = tape2.gradient(cost_2, W)\n",
    "    W.assign_sub(learning_data*w_grad)\n",
    "    if k % 10 == 0:\n",
    "        plt.plot(X, hypothesis, \"r-\")\n",
    "        \n",
    "plt.plot(X, Y, \"o\")\n",
    "plt.ylim(0, 8)\n",
    "plt.show() # Complete code with Linear regression using Simplified hypothesis"
   ]
  }
 ],
 "metadata": {
  "kernelspec": {
   "display_name": "Python 3",
   "language": "python",
   "name": "python3"
  },
  "language_info": {
   "codemirror_mode": {
    "name": "ipython",
    "version": 3
   },
   "file_extension": ".py",
   "mimetype": "text/x-python",
   "name": "python",
   "nbconvert_exporter": "python",
   "pygments_lexer": "ipython3",
   "version": "3.7.4"
  }
 },
 "nbformat": 4,
 "nbformat_minor": 2
}
